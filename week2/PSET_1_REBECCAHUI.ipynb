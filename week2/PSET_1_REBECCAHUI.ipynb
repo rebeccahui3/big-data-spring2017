{
 "cells": [
  {
   "cell_type": "markdown",
   "metadata": {},
   "source": [
    "# Problem Set 1: Intro to Python\n",
    "This problem set is meant to create a good foundation of programming. We emphasize code readability and reusability over performance. Code performance can be measured in many different ways, and is by no means the focus of this course, however, we expect your code to be non-repetitive, clean, and efficient enough to deal with medium-to-large datasets. As we move forward with the course, you will be introduced to some functional programming techniques, iterators, and objects that will help speed-up the data munging of the type of data sets that we will be dealing with. \n",
    "\n",
    "`Throughout the course you will be using multiple online resources to help you solve the assignments, we do too. However, if you are using other people’s code, make sure to credit the source, and come up with your own implementation. In this problem set, you are welcome to refer to online resources and documentation. One of the primary ones you will find you use is:` [Stack Overflow]( http://stackoverflow.com/)."
   ]
  },
  {
   "cell_type": "markdown",
   "metadata": {},
   "source": [
    "## 1. Lists\n",
    "Do the following:\n",
    "1. Create a list containing any 4 strings.\n",
    "2. Print the 3rd item in the list\n",
    "3. Print the 1st and 2nd item in the list using [:] index slicing.\n",
    "4. Add a new string with text “last” to the end of the list and print the list.\n",
    "5. Get the list length and print it.\n",
    "6. Replace the last item in the list with the string “new” and print\n"
   ]
  },
  {
   "cell_type": "code",
   "execution_count": 1,
   "metadata": {
    "collapsed": false,
    "scrolled": true
   },
   "outputs": [
    {
     "name": "stdout",
     "output_type": "stream",
     "text": [
      "lychee\n",
      "['apple', 'orange']\n",
      "['apple', 'orange', 'lychee', 'mango', 'last']\n",
      "5\n",
      "['apple', 'orange', 'lychee', 'mango', 'new']\n"
     ]
    }
   ],
   "source": [
    "#create a list containing any 4 strings\n",
    "L1 = [\"apple\",\"orange\",\"lychee\",\"mango\"]\n",
    "#print the third item in the list\n",
    "print(L1[2])\n",
    "#print the 1st and 2nd item in the list using index slicing\n",
    "print(L1[0:2])\n",
    "#add a new string with text \"last\" to the end of the list\n",
    "L1.append(\"last\")\n",
    "print(L1)\n",
    "#get the list length and print it\n",
    "print(len(L1))\n",
    "L1[4]=\"new\"\n",
    "print(L1)\n",
    "\n",
    "\n"
   ]
  },
  {
   "cell_type": "markdown",
   "metadata": {},
   "source": [
    "### 2. Strings \n",
    "Given the following list of words:\n",
    "```Python\n",
    "list1=['I', 'am', 'learning','Python','to','munge','large','datasets','and','visualize','them']\n",
    "```\n",
    "1. Convert the list into a normal sentence with [`join()`](https://docs.python.org/3/library/stdtypes.html#str.join), then print.\n",
    "2. [**Reverse**](https://docs.python.org/3.6/tutorial/datastructures.html) the order of this list `[“them”,”visualize”,…]`\n",
    "3. Now [**sort**](https://docs.python.org/3/library/functions.html#sorted) the list using the default sort order in python\n",
    "4. Modify the sort to do a case [**insensitive**](http://matthiaseisen.com/pp/patterns/p0005/) alphabetic sort\n",
    "5. Now print the list in reverse alphabetic sort order\n"
   ]
  },
  {
   "cell_type": "code",
   "execution_count": 62,
   "metadata": {
    "collapsed": false
   },
   "outputs": [
    {
     "name": "stdout",
     "output_type": "stream",
     "text": [
      "I am learning Python to munge large datasets and visualize them\n",
      "['them', 'visualize', 'and', 'datasets', 'large', 'munge', 'to', 'Python', 'learning', 'am', 'I']\n",
      "['visualize', 'to', 'them', 'Python', 'munge', 'learning', 'large', 'I', 'datasets', 'and', 'am']\n"
     ]
    }
   ],
   "source": [
    "#1.join \n",
    "s = \" \";\n",
    "seq = ('I', 'am', 'learning','Python','to','munge','large','datasets','and','visualize','them');\n",
    "print(s.join(seq))\n",
    "#2.reverse - FIX\n",
    "list1=['I', 'am', 'learning','Python','to','munge','large','datasets','and','visualize','them']\n",
    "list1.reverse()\n",
    "#3. sort the list\n",
    "sorted(list1)\n",
    "#4. modify the sort to do a case insensitive alphabetic sort\n",
    "sortedlist=sorted(list1, key=lambda x: x.lower())\n",
    "#5. print the list in reverse alphabetic sort order\n",
    "sortedlist.reverse()\n",
    "print(sortedlist)"
   ]
  },
  {
   "cell_type": "markdown",
   "metadata": {},
   "source": [
    "## 3. Random Function\n",
    "Here is a python snippet for generating a random integer:\n",
    "\n",
    "```Python\n",
    "import random\n",
    "# this returns random integer: 100 <= number <= 1000 \n",
    "num = random.randint(100, 1000)\n",
    "```\n",
    "\n",
    "* Implement your own random function that builds on this python function, returning an integer between a low and a high number supplied by the user, but that can be called with the low number optional (default to 0).\n",
    "\n",
    "* Test your function by adding the following 2 assert statements to your file (replace myrandom and low with the names you used). The [`assert`](https://docs.python.org/3/reference/simple_stmts.html#assert) statement helps you debug, by testing if a statement is true. \n",
    "\n",
    "```Python\n",
    "assert(0 <= myrandom(100) <= 100)\n",
    "assert(50 <= myrandom(100,low=50) <= 100)\n",
    "```\n",
    "\n",
    "\n",
    "1. Inputs: \n",
    "  1. Two `integers` that will be used as lower and upper bounds of the function. \n",
    "2. Outputs: \n",
    "  1. A random number within the established bounds. "
   ]
  },
  {
   "cell_type": "code",
   "execution_count": 77,
   "metadata": {
    "collapsed": false
   },
   "outputs": [],
   "source": [
    "import random\n",
    "\n",
    "def myrandom(high, low=0):\n",
    "    return random.randint(low, high)\n",
    "\n",
    "assert(0 <= myrandom(100) <= 100)\n",
    "assert(50 <= myrandom(100,low=50) <=100)\n"
   ]
  },
  {
   "cell_type": "markdown",
   "metadata": {},
   "source": [
    "## 4. String Formatting Function \n",
    "Write a function that expects 2 inputs from the command line. The first is a title that may be multiple words, the second is a number. Given these inputs print the following string (replacing N and Title with the dynamic values passed in to the script each time it runs).\n",
    "\n",
    "`The number N bestseller today is: Title` \n",
    "\n",
    "* If not already title-cased, the function should **title-case** the string. \n",
    "* Build one function making the first input optional (keeping the 2nd required).\n",
    "* Build another function making the second input optional (keeping the 1st required).\n",
    "* Build a third function making both inputs optional.\n"
   ]
  },
  {
   "cell_type": "code",
   "execution_count": 61,
   "metadata": {
    "collapsed": false
   },
   "outputs": [
    {
     "ename": "KeyboardInterrupt",
     "evalue": "",
     "output_type": "error",
     "traceback": [
      "\u001b[0;31m---------------------------------------------------------------------------\u001b[0m",
      "\u001b[0;31mKeyboardInterrupt\u001b[0m                         Traceback (most recent call last)",
      "\u001b[0;32m/Users/macbook-retina/anaconda/envs/python3/lib/python3.6/site-packages/ipykernel/kernelbase.py\u001b[0m in \u001b[0;36m_input_request\u001b[0;34m(self, prompt, ident, parent, password)\u001b[0m\n\u001b[1;32m    718\u001b[0m             \u001b[0;32mtry\u001b[0m\u001b[0;34m:\u001b[0m\u001b[0;34m\u001b[0m\u001b[0m\n\u001b[0;32m--> 719\u001b[0;31m                 \u001b[0mident\u001b[0m\u001b[0;34m,\u001b[0m \u001b[0mreply\u001b[0m \u001b[0;34m=\u001b[0m \u001b[0mself\u001b[0m\u001b[0;34m.\u001b[0m\u001b[0msession\u001b[0m\u001b[0;34m.\u001b[0m\u001b[0mrecv\u001b[0m\u001b[0;34m(\u001b[0m\u001b[0mself\u001b[0m\u001b[0;34m.\u001b[0m\u001b[0mstdin_socket\u001b[0m\u001b[0;34m,\u001b[0m \u001b[0;36m0\u001b[0m\u001b[0;34m)\u001b[0m\u001b[0;34m\u001b[0m\u001b[0m\n\u001b[0m\u001b[1;32m    720\u001b[0m             \u001b[0;32mexcept\u001b[0m \u001b[0mException\u001b[0m\u001b[0;34m:\u001b[0m\u001b[0;34m\u001b[0m\u001b[0m\n",
      "\u001b[0;32m/Users/macbook-retina/anaconda/envs/python3/lib/python3.6/site-packages/jupyter_client/session.py\u001b[0m in \u001b[0;36mrecv\u001b[0;34m(self, socket, mode, content, copy)\u001b[0m\n\u001b[1;32m    738\u001b[0m         \u001b[0;32mtry\u001b[0m\u001b[0;34m:\u001b[0m\u001b[0;34m\u001b[0m\u001b[0m\n\u001b[0;32m--> 739\u001b[0;31m             \u001b[0mmsg_list\u001b[0m \u001b[0;34m=\u001b[0m \u001b[0msocket\u001b[0m\u001b[0;34m.\u001b[0m\u001b[0mrecv_multipart\u001b[0m\u001b[0;34m(\u001b[0m\u001b[0mmode\u001b[0m\u001b[0;34m,\u001b[0m \u001b[0mcopy\u001b[0m\u001b[0;34m=\u001b[0m\u001b[0mcopy\u001b[0m\u001b[0;34m)\u001b[0m\u001b[0;34m\u001b[0m\u001b[0m\n\u001b[0m\u001b[1;32m    740\u001b[0m         \u001b[0;32mexcept\u001b[0m \u001b[0mzmq\u001b[0m\u001b[0;34m.\u001b[0m\u001b[0mZMQError\u001b[0m \u001b[0;32mas\u001b[0m \u001b[0me\u001b[0m\u001b[0;34m:\u001b[0m\u001b[0;34m\u001b[0m\u001b[0m\n",
      "\u001b[0;32m/Users/macbook-retina/anaconda/envs/python3/lib/python3.6/site-packages/zmq/sugar/socket.py\u001b[0m in \u001b[0;36mrecv_multipart\u001b[0;34m(self, flags, copy, track)\u001b[0m\n\u001b[1;32m    394\u001b[0m         \"\"\"\n\u001b[0;32m--> 395\u001b[0;31m         \u001b[0mparts\u001b[0m \u001b[0;34m=\u001b[0m \u001b[0;34m[\u001b[0m\u001b[0mself\u001b[0m\u001b[0;34m.\u001b[0m\u001b[0mrecv\u001b[0m\u001b[0;34m(\u001b[0m\u001b[0mflags\u001b[0m\u001b[0;34m,\u001b[0m \u001b[0mcopy\u001b[0m\u001b[0;34m=\u001b[0m\u001b[0mcopy\u001b[0m\u001b[0;34m,\u001b[0m \u001b[0mtrack\u001b[0m\u001b[0;34m=\u001b[0m\u001b[0mtrack\u001b[0m\u001b[0;34m)\u001b[0m\u001b[0;34m]\u001b[0m\u001b[0;34m\u001b[0m\u001b[0m\n\u001b[0m\u001b[1;32m    396\u001b[0m         \u001b[0;31m# have first part already, only loop while more to receive\u001b[0m\u001b[0;34m\u001b[0m\u001b[0;34m\u001b[0m\u001b[0m\n",
      "\u001b[0;32mzmq/backend/cython/socket.pyx\u001b[0m in \u001b[0;36mzmq.backend.cython.socket.Socket.recv (zmq/backend/cython/socket.c:7683)\u001b[0;34m()\u001b[0m\n",
      "\u001b[0;32mzmq/backend/cython/socket.pyx\u001b[0m in \u001b[0;36mzmq.backend.cython.socket.Socket.recv (zmq/backend/cython/socket.c:7460)\u001b[0;34m()\u001b[0m\n",
      "\u001b[0;32mzmq/backend/cython/socket.pyx\u001b[0m in \u001b[0;36mzmq.backend.cython.socket._recv_copy (zmq/backend/cython/socket.c:2344)\u001b[0;34m()\u001b[0m\n",
      "\u001b[0;32m/Users/macbook-retina/anaconda/envs/python3/lib/python3.6/site-packages/zmq/backend/cython/checkrc.pxd\u001b[0m in \u001b[0;36mzmq.backend.cython.checkrc._check_rc (zmq/backend/cython/socket.c:9621)\u001b[0;34m()\u001b[0m\n",
      "\u001b[0;31mKeyboardInterrupt\u001b[0m: ",
      "\nDuring handling of the above exception, another exception occurred:\n",
      "\u001b[0;31mKeyboardInterrupt\u001b[0m                         Traceback (most recent call last)",
      "\u001b[0;32m<ipython-input-61-63c8a15db5c4>\u001b[0m in \u001b[0;36m<module>\u001b[0;34m()\u001b[0m\n\u001b[1;32m     10\u001b[0m             \u001b[0;32mbreak\u001b[0m\u001b[0;34m\u001b[0m\u001b[0m\n\u001b[1;32m     11\u001b[0m \u001b[0;34m\u001b[0m\u001b[0m\n\u001b[0;32m---> 12\u001b[0;31m \u001b[0mopt_fun1\u001b[0m\u001b[0;34m(\u001b[0m\u001b[0;34m)\u001b[0m\u001b[0;34m\u001b[0m\u001b[0m\n\u001b[0m\u001b[1;32m     13\u001b[0m \u001b[0mtitle\u001b[0m \u001b[0;34m=\u001b[0m \u001b[0minput\u001b[0m\u001b[0;34m(\u001b[0m\u001b[0;34m\"Enter a title:\"\u001b[0m\u001b[0;34m)\u001b[0m\u001b[0;34m\u001b[0m\u001b[0m\n\u001b[1;32m     14\u001b[0m \u001b[0mprint\u001b[0m\u001b[0;34m(\u001b[0m\u001b[0;34m'The number'\u001b[0m\u001b[0;34m,\u001b[0m \u001b[0mnumber\u001b[0m\u001b[0;34m,\u001b[0m \u001b[0;34m'best seller today is:'\u001b[0m\u001b[0;34m,\u001b[0m \u001b[0mtitle\u001b[0m\u001b[0;34m.\u001b[0m\u001b[0mtitle\u001b[0m\u001b[0;34m(\u001b[0m\u001b[0;34m)\u001b[0m\u001b[0;34m)\u001b[0m\u001b[0;34m\u001b[0m\u001b[0m\n",
      "\u001b[0;32m<ipython-input-61-63c8a15db5c4>\u001b[0m in \u001b[0;36mopt_fun1\u001b[0;34m()\u001b[0m\n\u001b[1;32m      3\u001b[0m     \u001b[0;32mwhile\u001b[0m \u001b[0;32mTrue\u001b[0m\u001b[0;34m:\u001b[0m\u001b[0;34m\u001b[0m\u001b[0m\n\u001b[1;32m      4\u001b[0m         \u001b[0;32mtry\u001b[0m\u001b[0;34m:\u001b[0m\u001b[0;34m\u001b[0m\u001b[0m\n\u001b[0;32m----> 5\u001b[0;31m             \u001b[0mN\u001b[0m \u001b[0;34m=\u001b[0m \u001b[0mint\u001b[0m\u001b[0;34m(\u001b[0m\u001b[0minput\u001b[0m\u001b[0;34m(\u001b[0m\u001b[0;34m\"Enter a number:\"\u001b[0m\u001b[0;34m)\u001b[0m\u001b[0;34m)\u001b[0m\u001b[0;34m\u001b[0m\u001b[0m\n\u001b[0m\u001b[1;32m      6\u001b[0m         \u001b[0;32mexcept\u001b[0m \u001b[0mValueError\u001b[0m\u001b[0;34m:\u001b[0m\u001b[0;34m\u001b[0m\u001b[0m\n\u001b[1;32m      7\u001b[0m             \u001b[0mprint\u001b[0m\u001b[0;34m(\u001b[0m\u001b[0;34m\"You must enter a number.\"\u001b[0m\u001b[0;34m)\u001b[0m\u001b[0;34m\u001b[0m\u001b[0m\n",
      "\u001b[0;32m/Users/macbook-retina/anaconda/envs/python3/lib/python3.6/site-packages/ipykernel/kernelbase.py\u001b[0m in \u001b[0;36mraw_input\u001b[0;34m(self, prompt)\u001b[0m\n\u001b[1;32m    692\u001b[0m             \u001b[0mself\u001b[0m\u001b[0;34m.\u001b[0m\u001b[0m_parent_ident\u001b[0m\u001b[0;34m,\u001b[0m\u001b[0;34m\u001b[0m\u001b[0m\n\u001b[1;32m    693\u001b[0m             \u001b[0mself\u001b[0m\u001b[0;34m.\u001b[0m\u001b[0m_parent_header\u001b[0m\u001b[0;34m,\u001b[0m\u001b[0;34m\u001b[0m\u001b[0m\n\u001b[0;32m--> 694\u001b[0;31m             \u001b[0mpassword\u001b[0m\u001b[0;34m=\u001b[0m\u001b[0;32mFalse\u001b[0m\u001b[0;34m,\u001b[0m\u001b[0;34m\u001b[0m\u001b[0m\n\u001b[0m\u001b[1;32m    695\u001b[0m         )\n\u001b[1;32m    696\u001b[0m \u001b[0;34m\u001b[0m\u001b[0m\n",
      "\u001b[0;32m/Users/macbook-retina/anaconda/envs/python3/lib/python3.6/site-packages/ipykernel/kernelbase.py\u001b[0m in \u001b[0;36m_input_request\u001b[0;34m(self, prompt, ident, parent, password)\u001b[0m\n\u001b[1;32m    722\u001b[0m             \u001b[0;32mexcept\u001b[0m \u001b[0mKeyboardInterrupt\u001b[0m\u001b[0;34m:\u001b[0m\u001b[0;34m\u001b[0m\u001b[0m\n\u001b[1;32m    723\u001b[0m                 \u001b[0;31m# re-raise KeyboardInterrupt, to truncate traceback\u001b[0m\u001b[0;34m\u001b[0m\u001b[0;34m\u001b[0m\u001b[0m\n\u001b[0;32m--> 724\u001b[0;31m                 \u001b[0;32mraise\u001b[0m \u001b[0mKeyboardInterrupt\u001b[0m\u001b[0;34m\u001b[0m\u001b[0m\n\u001b[0m\u001b[1;32m    725\u001b[0m             \u001b[0;32melse\u001b[0m\u001b[0;34m:\u001b[0m\u001b[0;34m\u001b[0m\u001b[0m\n\u001b[1;32m    726\u001b[0m                 \u001b[0;32mbreak\u001b[0m\u001b[0;34m\u001b[0m\u001b[0m\n",
      "\u001b[0;31mKeyboardInterrupt\u001b[0m: "
     ]
    }
   ],
   "source": [
    "######Option 1 Must be Entered#####\n",
    "def opt_fun1():\n",
    "    while True:\n",
    "        try:\n",
    "            N = int(input(\"Enter a number:\"))\n",
    "        except ValueError:\n",
    "            print(\"You must enter a number.\")\n",
    "            continue\n",
    "        else:\n",
    "            break\n",
    "            \n",
    "opt_fun1()\n",
    "title = input(\"Enter a title:\")\n",
    "print('The number', number, 'best seller today is:', title.title())\n",
    "\n",
    "######Option 2 Must be Entered########\n",
    "def opt_fun2():\n",
    "    while True:\n",
    "        title = input(\"Enter a title:\")\n",
    "        if not title.isalpha():\n",
    "            print(\"You must enter a title.\")\n",
    "            continue\n",
    "        else:\n",
    "            break\n",
    "            \n",
    "opt_fun2()\n",
    "number = input(\"Enter a number:\")\n",
    "print('The number', number, 'best seller today is:', title.title())\n",
    "\n",
    "######Option 3: Both Entries are Optional#####\n",
    "title = input(\"Enter a title:\")\n",
    "number = input(\"Enter a number:\")\n",
    "print('The number', number, 'best seller today is:', title.title())\n"
   ]
  },
  {
   "cell_type": "markdown",
   "metadata": {},
   "source": [
    "## 5. Password Validation Function \n",
    "Write a password validation function. Ask the user to input a password that meets the criteria listed below. You can either use the **Python** [`input`](https://docs.python.org/3/library/functions.html#input) built-in function, or just pass the password as a function argument. Validate that the user’s password matches this criteria. After 3 bad tries, quit with an error message. If password is valid, print a helpful success message.\n",
    "\n",
    "* password length must be 8-14 characters\n",
    "* password must contain at least 2 digits\n",
    "* password must contain at least 1 uppercase letter\n",
    "* password must contain at least 1 special character from this set !@#$%^&*()-_+=\n",
    "\n",
    "\n",
    "\n",
    "1. Inputs: \n",
    "  1. A `string` that will be tested for the password requirements. The string can be passed as an argument to the function, or as an input through the `input` function.\n",
    "2. Outputs: \n",
    "  1. A **success** message if the password works, otherwise an **error** message. \n"
   ]
  },
  {
   "cell_type": "code",
   "execution_count": 4,
   "metadata": {
    "collapsed": false
   },
   "outputs": [
    {
     "ename": "KeyboardInterrupt",
     "evalue": "",
     "output_type": "error",
     "traceback": [
      "\u001b[0;31m---------------------------------------------------------------------------\u001b[0m",
      "\u001b[0;31mKeyboardInterrupt\u001b[0m                         Traceback (most recent call last)",
      "\u001b[0;32m/Users/macbook-retina/anaconda/envs/python3/lib/python3.6/site-packages/ipykernel/kernelbase.py\u001b[0m in \u001b[0;36m_input_request\u001b[0;34m(self, prompt, ident, parent, password)\u001b[0m\n\u001b[1;32m    718\u001b[0m             \u001b[0;32mtry\u001b[0m\u001b[0;34m:\u001b[0m\u001b[0;34m\u001b[0m\u001b[0m\n\u001b[0;32m--> 719\u001b[0;31m                 \u001b[0mident\u001b[0m\u001b[0;34m,\u001b[0m \u001b[0mreply\u001b[0m \u001b[0;34m=\u001b[0m \u001b[0mself\u001b[0m\u001b[0;34m.\u001b[0m\u001b[0msession\u001b[0m\u001b[0;34m.\u001b[0m\u001b[0mrecv\u001b[0m\u001b[0;34m(\u001b[0m\u001b[0mself\u001b[0m\u001b[0;34m.\u001b[0m\u001b[0mstdin_socket\u001b[0m\u001b[0;34m,\u001b[0m \u001b[0;36m0\u001b[0m\u001b[0;34m)\u001b[0m\u001b[0;34m\u001b[0m\u001b[0m\n\u001b[0m\u001b[1;32m    720\u001b[0m             \u001b[0;32mexcept\u001b[0m \u001b[0mException\u001b[0m\u001b[0;34m:\u001b[0m\u001b[0;34m\u001b[0m\u001b[0m\n",
      "\u001b[0;32m/Users/macbook-retina/anaconda/envs/python3/lib/python3.6/site-packages/jupyter_client/session.py\u001b[0m in \u001b[0;36mrecv\u001b[0;34m(self, socket, mode, content, copy)\u001b[0m\n\u001b[1;32m    738\u001b[0m         \u001b[0;32mtry\u001b[0m\u001b[0;34m:\u001b[0m\u001b[0;34m\u001b[0m\u001b[0m\n\u001b[0;32m--> 739\u001b[0;31m             \u001b[0mmsg_list\u001b[0m \u001b[0;34m=\u001b[0m \u001b[0msocket\u001b[0m\u001b[0;34m.\u001b[0m\u001b[0mrecv_multipart\u001b[0m\u001b[0;34m(\u001b[0m\u001b[0mmode\u001b[0m\u001b[0;34m,\u001b[0m \u001b[0mcopy\u001b[0m\u001b[0;34m=\u001b[0m\u001b[0mcopy\u001b[0m\u001b[0;34m)\u001b[0m\u001b[0;34m\u001b[0m\u001b[0m\n\u001b[0m\u001b[1;32m    740\u001b[0m         \u001b[0;32mexcept\u001b[0m \u001b[0mzmq\u001b[0m\u001b[0;34m.\u001b[0m\u001b[0mZMQError\u001b[0m \u001b[0;32mas\u001b[0m \u001b[0me\u001b[0m\u001b[0;34m:\u001b[0m\u001b[0;34m\u001b[0m\u001b[0m\n",
      "\u001b[0;32m/Users/macbook-retina/anaconda/envs/python3/lib/python3.6/site-packages/zmq/sugar/socket.py\u001b[0m in \u001b[0;36mrecv_multipart\u001b[0;34m(self, flags, copy, track)\u001b[0m\n\u001b[1;32m    394\u001b[0m         \"\"\"\n\u001b[0;32m--> 395\u001b[0;31m         \u001b[0mparts\u001b[0m \u001b[0;34m=\u001b[0m \u001b[0;34m[\u001b[0m\u001b[0mself\u001b[0m\u001b[0;34m.\u001b[0m\u001b[0mrecv\u001b[0m\u001b[0;34m(\u001b[0m\u001b[0mflags\u001b[0m\u001b[0;34m,\u001b[0m \u001b[0mcopy\u001b[0m\u001b[0;34m=\u001b[0m\u001b[0mcopy\u001b[0m\u001b[0;34m,\u001b[0m \u001b[0mtrack\u001b[0m\u001b[0;34m=\u001b[0m\u001b[0mtrack\u001b[0m\u001b[0;34m)\u001b[0m\u001b[0;34m]\u001b[0m\u001b[0;34m\u001b[0m\u001b[0m\n\u001b[0m\u001b[1;32m    396\u001b[0m         \u001b[0;31m# have first part already, only loop while more to receive\u001b[0m\u001b[0;34m\u001b[0m\u001b[0;34m\u001b[0m\u001b[0m\n",
      "\u001b[0;32mzmq/backend/cython/socket.pyx\u001b[0m in \u001b[0;36mzmq.backend.cython.socket.Socket.recv (zmq/backend/cython/socket.c:7683)\u001b[0;34m()\u001b[0m\n",
      "\u001b[0;32mzmq/backend/cython/socket.pyx\u001b[0m in \u001b[0;36mzmq.backend.cython.socket.Socket.recv (zmq/backend/cython/socket.c:7460)\u001b[0;34m()\u001b[0m\n",
      "\u001b[0;32mzmq/backend/cython/socket.pyx\u001b[0m in \u001b[0;36mzmq.backend.cython.socket._recv_copy (zmq/backend/cython/socket.c:2344)\u001b[0;34m()\u001b[0m\n",
      "\u001b[0;32m/Users/macbook-retina/anaconda/envs/python3/lib/python3.6/site-packages/zmq/backend/cython/checkrc.pxd\u001b[0m in \u001b[0;36mzmq.backend.cython.checkrc._check_rc (zmq/backend/cython/socket.c:9621)\u001b[0;34m()\u001b[0m\n",
      "\u001b[0;31mKeyboardInterrupt\u001b[0m: ",
      "\nDuring handling of the above exception, another exception occurred:\n",
      "\u001b[0;31mKeyboardInterrupt\u001b[0m                         Traceback (most recent call last)",
      "\u001b[0;32m<ipython-input-4-97ba030b1189>\u001b[0m in \u001b[0;36m<module>\u001b[0;34m()\u001b[0m\n\u001b[1;32m     41\u001b[0m     \u001b[0mprint\u001b[0m\u001b[0;34m(\u001b[0m\u001b[0;34m\"Error\"\u001b[0m\u001b[0;34m)\u001b[0m\u001b[0;34m\u001b[0m\u001b[0m\n\u001b[1;32m     42\u001b[0m \u001b[0;34m\u001b[0m\u001b[0m\n\u001b[0;32m---> 43\u001b[0;31m \u001b[0misPasswordValid\u001b[0m\u001b[0;34m(\u001b[0m\u001b[0;34m)\u001b[0m\u001b[0;34m\u001b[0m\u001b[0m\n\u001b[0m\u001b[1;32m     44\u001b[0m \u001b[0;34m\u001b[0m\u001b[0m\n\u001b[1;32m     45\u001b[0m \u001b[0;34m\u001b[0m\u001b[0m\n",
      "\u001b[0;32m<ipython-input-4-97ba030b1189>\u001b[0m in \u001b[0;36misPasswordValid\u001b[0;34m()\u001b[0m\n\u001b[1;32m     19\u001b[0m     \u001b[0mtries\u001b[0m \u001b[0;34m=\u001b[0m \u001b[0;36m3\u001b[0m\u001b[0;34m\u001b[0m\u001b[0m\n\u001b[1;32m     20\u001b[0m     \u001b[0;32mwhile\u001b[0m \u001b[0mtries\u001b[0m \u001b[0;34m>\u001b[0m \u001b[0;36m0\u001b[0m\u001b[0;34m:\u001b[0m\u001b[0;34m\u001b[0m\u001b[0m\n\u001b[0;32m---> 21\u001b[0;31m         \u001b[0mpassword\u001b[0m \u001b[0;34m=\u001b[0m \u001b[0minput\u001b[0m\u001b[0;34m(\u001b[0m\u001b[0;34m\"Enter a password:\"\u001b[0m\u001b[0;34m)\u001b[0m\u001b[0;34m\u001b[0m\u001b[0m\n\u001b[0m\u001b[1;32m     22\u001b[0m         \u001b[0;32mif\u001b[0m \u001b[0mlen\u001b[0m\u001b[0;34m(\u001b[0m\u001b[0mpassword\u001b[0m\u001b[0;34m)\u001b[0m \u001b[0;34m>\u001b[0m \u001b[0;36m14\u001b[0m\u001b[0;34m:\u001b[0m\u001b[0;34m\u001b[0m\u001b[0m\n\u001b[1;32m     23\u001b[0m             \u001b[0mprint\u001b[0m\u001b[0;34m(\u001b[0m\u001b[0;34m\"Your password must be under 14 characters\"\u001b[0m\u001b[0;34m)\u001b[0m\u001b[0;34m\u001b[0m\u001b[0m\n",
      "\u001b[0;32m/Users/macbook-retina/anaconda/envs/python3/lib/python3.6/site-packages/ipykernel/kernelbase.py\u001b[0m in \u001b[0;36mraw_input\u001b[0;34m(self, prompt)\u001b[0m\n\u001b[1;32m    692\u001b[0m             \u001b[0mself\u001b[0m\u001b[0;34m.\u001b[0m\u001b[0m_parent_ident\u001b[0m\u001b[0;34m,\u001b[0m\u001b[0;34m\u001b[0m\u001b[0m\n\u001b[1;32m    693\u001b[0m             \u001b[0mself\u001b[0m\u001b[0;34m.\u001b[0m\u001b[0m_parent_header\u001b[0m\u001b[0;34m,\u001b[0m\u001b[0;34m\u001b[0m\u001b[0m\n\u001b[0;32m--> 694\u001b[0;31m             \u001b[0mpassword\u001b[0m\u001b[0;34m=\u001b[0m\u001b[0;32mFalse\u001b[0m\u001b[0;34m,\u001b[0m\u001b[0;34m\u001b[0m\u001b[0m\n\u001b[0m\u001b[1;32m    695\u001b[0m         )\n\u001b[1;32m    696\u001b[0m \u001b[0;34m\u001b[0m\u001b[0m\n",
      "\u001b[0;32m/Users/macbook-retina/anaconda/envs/python3/lib/python3.6/site-packages/ipykernel/kernelbase.py\u001b[0m in \u001b[0;36m_input_request\u001b[0;34m(self, prompt, ident, parent, password)\u001b[0m\n\u001b[1;32m    722\u001b[0m             \u001b[0;32mexcept\u001b[0m \u001b[0mKeyboardInterrupt\u001b[0m\u001b[0;34m:\u001b[0m\u001b[0;34m\u001b[0m\u001b[0m\n\u001b[1;32m    723\u001b[0m                 \u001b[0;31m# re-raise KeyboardInterrupt, to truncate traceback\u001b[0m\u001b[0;34m\u001b[0m\u001b[0;34m\u001b[0m\u001b[0m\n\u001b[0;32m--> 724\u001b[0;31m                 \u001b[0;32mraise\u001b[0m \u001b[0mKeyboardInterrupt\u001b[0m\u001b[0;34m\u001b[0m\u001b[0m\n\u001b[0m\u001b[1;32m    725\u001b[0m             \u001b[0;32melse\u001b[0m\u001b[0;34m:\u001b[0m\u001b[0;34m\u001b[0m\u001b[0m\n\u001b[1;32m    726\u001b[0m                 \u001b[0;32mbreak\u001b[0m\u001b[0;34m\u001b[0m\u001b[0m\n",
      "\u001b[0;31mKeyboardInterrupt\u001b[0m: "
     ]
    }
   ],
   "source": [
    "def hasUppercaseLetter(word):\n",
    "    uppers = [l for l in word if l.isupper()]\n",
    "    return len(uppers) > 0\n",
    "\n",
    "def hasLowercaseLetter(word):\n",
    "    lowers = [l for l in word if l.islower()]\n",
    "    return len(lowers) > 0\n",
    "\n",
    "def hasSpecialCharacter(word):\n",
    "    schars = ('!','@','#','$','%','^','&','*','(',')','-','_','+','=')\n",
    "    for schar in schars:\n",
    "        if schar in word:\n",
    "            return True\n",
    "    return False\n",
    "    \n",
    "def isPasswordValid():\n",
    "    tries = 3\n",
    "    while tries > 0:\n",
    "        password = input(\"Enter a password:\")\n",
    "        if len(password) > 14:\n",
    "            print(\"Your password must be under 14 characters\")\n",
    "            tries = tries - 1\n",
    "        elif len(password) < 8:\n",
    "            print(\"Your password must be above 8 characters\")\n",
    "            tries = tries - 1\n",
    "        elif not hasUppercaseLetter(password):\n",
    "            print(\"Your password must have at least one upper case letter\")\n",
    "            tries = tries - 1\n",
    "        elif not hasLowercaseLetter(password):\n",
    "            print(\"Your password must have at least one lower case letter\")\n",
    "            tries = tries - 1\n",
    "        elif not hasSpecialCharacter(password):\n",
    "            print(\"Your password must include a special character (!@#$%^&*()-_+=)\")\n",
    "            tries = tries - 1\n",
    "        else: \n",
    "            print(\"Your password is successful\")\n",
    "            return\n",
    "\n",
    "    print(\"Error\")\n",
    "\n",
    "isPasswordValid()\n",
    "    \n",
    "\n",
    "\n"
   ]
  },
  {
   "cell_type": "markdown",
   "metadata": {},
   "source": [
    "## 6. Exponentiation Function\n",
    "Create a function called **exp** that asks for two digits and then prints an exponentiation, without using the exponentiation operator (`**`). You may assume these are positive integers. Use at least one custom-defined function.\n",
    "\n",
    "For example, some outputs of this function could be:\n",
    "* 2 , 3 => 8\n",
    "* 5 , 4 => 625\n",
    "\n",
    "1. Inputs: \n",
    "  1. An `integer` that will be recursively multiplied\n",
    "  2. An `integer` that will define the number of times to multiply the number to get the exponentiation.\n",
    "2. Outputs: \n",
    "  1. An `integer` that is the result of the exponentiation. \n",
    "\n",
    "`Hint: You can recursively multiply a number. The second number defines the number of times the recursive loop happens. Every time the loop happens, you can redefine the variable that gets multiplied.` "
   ]
  },
  {
   "cell_type": "code",
   "execution_count": 64,
   "metadata": {
    "collapsed": false
   },
   "outputs": [
    {
     "data": {
      "text/plain": [
       "8"
      ]
     },
     "execution_count": 64,
     "metadata": {},
     "output_type": "execute_result"
    }
   ],
   "source": [
    "def exp(x,y):\n",
    "    if y == 1:\n",
    "        return x\n",
    "    if y != 1:\n",
    "        return x * pow(x, y-1)\n",
    "\n",
    "exp(2,3)\n"
   ]
  },
  {
   "cell_type": "markdown",
   "metadata": {},
   "source": [
    "## 7. Min and Max Functions (Bonus)\n",
    "\n",
    "EXTRA CREDIT\n",
    "\n",
    "Write your own versions of the Python built-in functions **min** and **max**. They should take a list as an argument and return the minimum or maximum element. Assume lists contain numeric items only. \n",
    "\n",
    "1. Inputs: \n",
    "  1. A `list` of `numbers` to be tested. \n",
    "2. Outputs: \n",
    "  1. A `number` of the list that is the maximum or minimum. \n",
    "\n",
    "`Hint: Pick the first element as the minimum(maximum) and then loop through the elements to find a smaller(larger) element. Each time you find a smaller (larger) element, update your minimum (maximum).`"
   ]
  },
  {
   "cell_type": "code",
   "execution_count": 69,
   "metadata": {
    "collapsed": false
   },
   "outputs": [
    {
     "name": "stdout",
     "output_type": "stream",
     "text": [
      "The highest number is \n",
      "The lowest number entered was is\n"
     ]
    },
    {
     "data": {
      "text/plain": [
       "(None, 2)"
      ]
     },
     "execution_count": 69,
     "metadata": {},
     "output_type": "execute_result"
    }
   ],
   "source": [
    "numbers = [2,8,100,200,900]\n",
    "\n",
    "high= max(numbers)\n",
    "low= min(numbers)\n",
    "\n",
    "print(\"The highest number is \"), high\n",
    "print(\"The lowest number entered was is\"), low\n"
   ]
  },
  {
   "cell_type": "markdown",
   "metadata": {},
   "source": [
    "## 8. Hangman Game (Bonus)\n",
    "\n",
    "EXTRA CREDIT\n",
    "\n",
    "Implement a basic hangman game through functions.\n",
    "* Show a user the word or phrase (5-15 letters) that they have to guess with dashes as placeholders for unsolved letters. You can hardcode this word into your source.\n",
    "* Prompt the user to guess a letter or solve the puzzle through the user [`input`](https://docs.python.org/3/library/functions.html#input) function. They get up to 8 guesses. After each guess, show the word with any instances of correctly guessed letters filled in. Show the number of tries left. Handle possible issues with user input in a consistent way.\n",
    "* Continue to prompt the user until either they’ve used up their 8 guesses or solved.\n",
    "* If they solve the puzzle in time, show the completed word and a congratulatory message.\n",
    "* If they fail to solve the puzzle, show the completed word and a Game Over message.\n",
    "\n",
    "\n",
    "Here’s a sample transcript.\n",
    "> You have 8 guesses to solve this word. \n",
    "\n",
    ">------------------------------------------   \n",
    "\n",
    ">guess a letter or solve: b \n",
    "\n",
    ">b--b--b--  (7 tries left) \n",
    "\n",
    ">guess a letter or solve: x \n",
    "\n",
    ">b--b--b--  (6 tries left) \n",
    "\n",
    ">guess a letter or solve: e \n",
    "\n",
    ">b--b-ebee  (5 tries left) \n",
    "\n",
    ">guess a letter or solve: bumblebee \n",
    "\n",
    ">bumblebee  (4 tries left) \n",
    "\n",
    ">Congratulations, you won!\n",
    "\n",
    "1. Inputs: \n",
    "  1. A `string` that will be tested to see whether or not it is part of the secret word. \n",
    "2. Outputs: \n",
    "  1. A message that shows the user the number of guessed letters at the time.\n",
    "  2. A **success** message if the user wins, otherwise a **try again** message. \n"
   ]
  },
  {
   "cell_type": "code",
   "execution_count": 87,
   "metadata": {
    "collapsed": false
   },
   "outputs": [
    {
     "name": "stdout",
     "output_type": "stream",
     "text": [
      "Please guess a letter:a\n"
     ]
    },
    {
     "ename": "NameError",
     "evalue": "name 'letters_guessed' is not defined",
     "output_type": "error",
     "traceback": [
      "\u001b[0;31m---------------------------------------------------------------------------\u001b[0m",
      "\u001b[0;31mNameError\u001b[0m                                 Traceback (most recent call last)",
      "\u001b[0;32m<ipython-input-87-b7596ffc6a99>\u001b[0m in \u001b[0;36m<module>\u001b[0;34m()\u001b[0m\n\u001b[1;32m     45\u001b[0m     \u001b[0;31m#letters_guessed.append(letter_guessed)\u001b[0m\u001b[0;34m\u001b[0m\u001b[0;34m\u001b[0m\u001b[0m\n\u001b[1;32m     46\u001b[0m \u001b[0;34m\u001b[0m\u001b[0m\n\u001b[0;32m---> 47\u001b[0;31m \u001b[0;32mwhile\u001b[0m \u001b[0;32mnot\u001b[0m \u001b[0mis_word_guessed\u001b[0m\u001b[0;34m(\u001b[0m\u001b[0msecret_word\u001b[0m\u001b[0;34m,\u001b[0m\u001b[0mletters_guessed\u001b[0m\u001b[0;34m)\u001b[0m \u001b[0;32mand\u001b[0m \u001b[0mnum_guesses_remaining\u001b[0m \u001b[0;34m>\u001b[0m \u001b[0;36m0\u001b[0m\u001b[0;34m:\u001b[0m\u001b[0;34m\u001b[0m\u001b[0m\n\u001b[0m\u001b[1;32m     48\u001b[0m     \u001b[0mletter_guessed\u001b[0m\u001b[0;34m=\u001b[0m\u001b[0mraw_input\u001b[0m\u001b[0;34m(\u001b[0m\u001b[0;34m'Please guess a letter:'\u001b[0m\u001b[0;34m)\u001b[0m\u001b[0;34m\u001b[0m\u001b[0m\n\u001b[1;32m     49\u001b[0m     \u001b[0mletters_guessed\u001b[0m\u001b[0;34m.\u001b[0m\u001b[0mappend\u001b[0m\u001b[0;34m(\u001b[0m\u001b[0mletter_guessed\u001b[0m\u001b[0;34m)\u001b[0m\u001b[0;34m\u001b[0m\u001b[0m\n",
      "\u001b[0;31mNameError\u001b[0m: name 'letters_guessed' is not defined"
     ]
    }
   ],
   "source": [
    "#1: Define winning conditions; examine if all letters in secret word have been guessed\n",
    "secret_word =(\"urbanplanning\")\n",
    "letter_guessed=input('Please guess a letter:')\n",
    "\n",
    "def is_word_guessed(secret_word, letters_guessed):\n",
    "    for index in range(len(secret_word)):\n",
    "        if secret_word[index] not in letters_guessed:\n",
    "            return False\n",
    "        #if every letter in secret_word has been guessed\n",
    "    return True\n",
    "\n",
    "#2. Reveal guessed words\n",
    "def get_guessed_word(secret_word, letters_guessed):\n",
    "#1) start off with \"\"\n",
    "    result=''\n",
    "#2) loop through letters of apple\n",
    "    for index in range(len(secret_word)):\n",
    "        #if secret word letter is in list of letters guessed, print the letter\n",
    "        current_secret_letter=secret_word[index]\n",
    "        #compile current_secret_lettter into letters_guessed\n",
    "        if current_secret_letter in letters_guessed:\n",
    "            result += current_secret_letter\n",
    "        else:\n",
    "            result += '*'\n",
    "    return result\n",
    "\n",
    "def get_available_letters(letters_guessed):\n",
    "    alphabet=string.ascii_lowercase\n",
    "    for letter in alphabet:\n",
    "        if letter in letters_guessed:\n",
    "            #remove letters guessed by splitting them out\n",
    "            alphabet=alphabet.split(letter)\n",
    "            #join turns it into a string\n",
    "            alphabet=''.join(alphabet)\n",
    "            #return as a string\n",
    "    return alphabet \n",
    "\n",
    "def hangman(secret_word):\n",
    "    print('I am thinking of a word that is'), len(secret_word), ('letters long.')\n",
    "    #Let user know how many guesses he or she starts with, (starts with 8 guesses)\n",
    "    num_guesses_remaining=8\n",
    "    print('You have'), num_guesses_remaining, ('guesses left')\n",
    "    #Counter\n",
    "    letters_guessed=[]\n",
    "    #letters_guessed.append(letter_guessed)\n",
    "\n",
    "while not is_word_guessed(secret_word,letters_guessed) and num_guesses_remaining > 0:\n",
    "    letter_guessed=raw_input('Please guess a letter:')\n",
    "    letters_guessed.append(letter_guessed)\n",
    "    if letter_guessed in secret_word:\n",
    "        print('Good Guess:'), get_guessed_word(secret_word,letters_guessed)\n",
    "        print('Available letters:'), get_available_letters(letters_guessed)\n",
    "        print('You have'), num_guesses_remaining, ('guesses left')\n",
    "        ##If letter is in or not in  secret_word, return guessed word, available letters, num guesses left\n",
    "    else:\n",
    "        #define num_guesses_remaining\n",
    "        num_guesses_remaining=num_guesses_remaining-1\n",
    "        print('Oops! That letter is not in my word'), get_guessed_word(secret_word,letters_guessed)\n",
    "        print('Available letters:'), get_available_letters(letters_guessed)\n",
    "        print('You have'), num_guesses_remaining, ('guesses left')\n",
    "    #Conditions for Game Termination\n",
    "    if is_word_guessed(secret_word,letters_guessed):\n",
    "        print('Congratulations, you won!')\n",
    "        print('The word was'), secret_word\n",
    "\n",
    "    else:\n",
    "        print('Game Over. Try again!')\n",
    "        print('The word was'), secret_word\n",
    "\n",
    "hangman(secret_word)"
   ]
  },
  {
   "cell_type": "code",
   "execution_count": null,
   "metadata": {
    "collapsed": true
   },
   "outputs": [],
   "source": []
  },
  {
   "cell_type": "code",
   "execution_count": null,
   "metadata": {
    "collapsed": true
   },
   "outputs": [],
   "source": []
  }
 ],
 "metadata": {
  "kernelspec": {
   "display_name": "Python 3",
   "language": "python",
   "name": "python3"
  },
  "language_info": {
   "codemirror_mode": {
    "name": "ipython",
    "version": 3
   },
   "file_extension": ".py",
   "mimetype": "text/x-python",
   "name": "python",
   "nbconvert_exporter": "python",
   "pygments_lexer": "ipython3",
   "version": "3.6.0"
  }
 },
 "nbformat": 4,
 "nbformat_minor": 0
}
